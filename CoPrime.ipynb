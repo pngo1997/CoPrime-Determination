{
 "cells": [
  {
   "cell_type": "code",
   "execution_count": 5,
   "id": "c904f8d4-3e8a-4bbf-abb1-10e3786da629",
   "metadata": {},
   "outputs": [],
   "source": [
    "#Comment: How efficient is coprime(a,b): It the best approach I can find so far. I did try dividing to each \n",
    "#other, set xfactor as a list but did not work out. \n",
    "#How did I ensure was not making any needles computations. As I stated, I tried those 2 approaches and it \n",
    "#didn't go anywhere. So this the best approach I can get to so far.\n",
    "#What assumptions does your code make? My final approach is divide by numbers within the range\n",
    "#from 1 to (smaller number +1). The smaller number (except for 1) will not yield 1 as a shared factor.\n",
    "#How easy it is for user to crash my code: I haven't found any loophole so far. I take absolute value of \n",
    "#a and b at the beginning.\n",
    "\n",
    "def coprime (a,b):\n",
    "    '''Determine whether input pair of numbers are coprime'''\n",
    "    a=abs(a)\n",
    "    b=abs(b)\n",
    "    #Take absolute value of a and b incase users enter negative number.\n",
    "    xfactor=1\n",
    "    #Setting the initial shared factor as 1.\n",
    "    if a>b:\n",
    "        m=b\n",
    "    else: m=a\n",
    "    #Check which number is smaller between the two. The value of (smaller number+1) will be the max range of shared factors. \n",
    "    for i in range (1, m+1):\n",
    "    #Shared factor range from 1 to (smaller number+1). \n",
    "        if a%i==0 and b%i==0:\n",
    "            xfactor=i\n",
    "    #Check for all shared factor between two numbers, by mod each shared factor.\n",
    "    if xfactor==1:\n",
    "        return True\n",
    "    #If there is only one shared factor value of '1', return True showing the pair of numbers are coprime.\n",
    "    else:\n",
    "        return False\n",
    "    #If there are more than one shared value, return False showing the pair of numbers are not coprime.\n",
    "def coprime_test_loop():\n",
    "    '''Determine whether input pair of numbers are coprime. Users are allowed to enter as much as they can \\\n",
    "    until they wish to exit the program.'''\n",
    "    a,b=eval(input('Please enter a pair of numbers:'))\n",
    "    #Asking user to enter first pair of numbers. Convert inputs into number a and b for coprime (a,b) def.\n",
    "    cp=coprime(a,b)\n",
    "    #Set result from coprime (a,b) as variable.\n",
    "    if cp==1:   \n",
    "        print('The two numbers are coprime')\n",
    "    #If there is only one shared factor value of '1', print message indicating the two numbers are corpime.\n",
    "    else: print('The two numbers are NOT coprime')\n",
    "    #If there are more than one shared value, print message indicating the two numbers are NOT corpime.\n",
    "    while True:\n",
    "    #Using infinite loop pattern so user can ask as many time as they wish.  \n",
    "        ans=input('Please enter another pair of numbers:')\n",
    "        #Asking user to enter another pair of numbers if they wish.\n",
    "        if ans=='': break\n",
    "        #The loop will stop when users press Enter/giving no input (Terminating condition) which indicates\n",
    "        #that they wish exit the program.\n",
    "        else: \n",
    "            a,b=eval(ans)\n",
    "            #Asking user to enter other pair of numbers. Convert inputs into number a and b for coprime (a,b) def.\n",
    "            cp=coprime(a,b)\n",
    "            if cp==1:   \n",
    "                print('The two numbers are coprime')\n",
    "            #If there is only one shared factor value of '1', print message indicating the two numbers are corpime.\n",
    "            else: print('The two numbers are NOT coprime')\n",
    "            #If there are more than one shared value, print message indicating the two numbers are NOT corpime.\n",
    "    return"
   ]
  },
  {
   "cell_type": "code",
   "execution_count": 6,
   "id": "1b271e40-e020-473e-ad53-f8552eeb4260",
   "metadata": {},
   "outputs": [
    {
     "name": "stdin",
     "output_type": "stream",
     "text": [
      "Please enter a pair of numbers: 12,35\n"
     ]
    },
    {
     "name": "stdout",
     "output_type": "stream",
     "text": [
      "The two numbers are coprime\n"
     ]
    },
    {
     "name": "stdin",
     "output_type": "stream",
     "text": [
      "Please enter another pair of numbers: 1000,500\n"
     ]
    },
    {
     "name": "stdout",
     "output_type": "stream",
     "text": [
      "The two numbers are NOT coprime\n"
     ]
    },
    {
     "name": "stdin",
     "output_type": "stream",
     "text": [
      "Please enter another pair of numbers: -9,4\n"
     ]
    },
    {
     "name": "stdout",
     "output_type": "stream",
     "text": [
      "The two numbers are coprime\n"
     ]
    },
    {
     "name": "stdin",
     "output_type": "stream",
     "text": [
      "Please enter another pair of numbers: 68,184\n"
     ]
    },
    {
     "name": "stdout",
     "output_type": "stream",
     "text": [
      "The two numbers are NOT coprime\n"
     ]
    },
    {
     "name": "stdin",
     "output_type": "stream",
     "text": [
      "Please enter another pair of numbers: -3,-9\n"
     ]
    },
    {
     "name": "stdout",
     "output_type": "stream",
     "text": [
      "The two numbers are NOT coprime\n"
     ]
    },
    {
     "name": "stdin",
     "output_type": "stream",
     "text": [
      "Please enter another pair of numbers: \n"
     ]
    }
   ],
   "source": [
    "coprime_test_loop()"
   ]
  },
  {
   "cell_type": "code",
   "execution_count": null,
   "id": "cc9d6530-c1a5-4506-acaa-40cee9899489",
   "metadata": {},
   "outputs": [],
   "source": []
  }
 ],
 "metadata": {
  "kernelspec": {
   "display_name": "Python 3 (ipykernel)",
   "language": "python",
   "name": "python3"
  },
  "language_info": {
   "codemirror_mode": {
    "name": "ipython",
    "version": 3
   },
   "file_extension": ".py",
   "mimetype": "text/x-python",
   "name": "python",
   "nbconvert_exporter": "python",
   "pygments_lexer": "ipython3",
   "version": "3.9.13"
  }
 },
 "nbformat": 4,
 "nbformat_minor": 5
}
